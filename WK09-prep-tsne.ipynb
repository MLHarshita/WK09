{
 "cells": [
  {
   "cell_type": "markdown",
   "metadata": {},
   "source": [
    "# When t-SNE?"
   ]
  },
  {
   "cell_type": "code",
   "execution_count": null,
   "metadata": {},
   "outputs": [],
   "source": [
    "import matplotlib.pyplot as plt\n",
    "\n",
    "from numpy import array as nparray\n",
    "from numpy.random import normal\n",
    "\n",
    "from sklearn.decomposition import PCA\n",
    "from sklearn.manifold import TSNE"
   ]
  },
  {
   "cell_type": "code",
   "execution_count": null,
   "metadata": {},
   "outputs": [],
   "source": [
    "NUM_GROUPS = 4\n",
    "NUM_SAMPLES = 100"
   ]
  },
  {
   "cell_type": "code",
   "execution_count": null,
   "metadata": {},
   "outputs": [],
   "source": [
    "means = (( .5, -.5), ( .5,  .5), (-.5, -.5), (-.5,  .5))\n",
    "stds = ((.2,.1), (.1,.3), (.2,.2), (.3,.1))\n",
    "color_vals = ((0.2, 0.4, 0.8), (0.863, 0.224, 0.071), (1, 0.6, 0), (0.063, 0.588, 0.094))\n",
    "\n",
    "colors = [color_vals[i//NUM_SAMPLES] for i in range(NUM_SAMPLES*NUM_GROUPS)]\n",
    "line = NUM_GROUPS * NUM_SAMPLES * [-1.8]\n",
    "\n",
    "x = nparray([normal(means[i//NUM_SAMPLES], stds[i//NUM_SAMPLES]) for i in range(NUM_SAMPLES*NUM_GROUPS)])\n",
    "\n",
    "plt.figure(figsize=(8,8))\n",
    "plt.xticks(fontsize=0)\n",
    "plt.yticks(fontsize=0)\n",
    "plt.scatter(x[:,0], x[:,1], c=colors, s=16)\n",
    "plt.scatter(x[:,0], line, color=(1,1,1), s=16)\n",
    "plt.scatter(line, x[:,1], color=(1,1,1), s=16)\n",
    "plt.show()"
   ]
  },
  {
   "cell_type": "code",
   "execution_count": null,
   "metadata": {},
   "outputs": [],
   "source": [
    "plt.figure(figsize=(8,8))\n",
    "plt.xticks(fontsize=0)\n",
    "plt.yticks(fontsize=0)\n",
    "plt.scatter(x[:,0], x[:,1], c=colors, s=16)\n",
    "plt.scatter(x[:,0], line, c=colors, s=16)\n",
    "plt.scatter(line, x[:,1], c=colors, s=16)\n",
    "plt.show()"
   ]
  },
  {
   "cell_type": "code",
   "execution_count": null,
   "metadata": {},
   "outputs": [],
   "source": [
    "mPCA = PCA(n_components=2)\n",
    "x_pca = mPCA.fit_transform(x)\n",
    "\n",
    "plt.figure(figsize=(8,8))\n",
    "plt.xticks(fontsize=0)\n",
    "plt.yticks(fontsize=0)\n",
    "plt.scatter(x[:,0], x[:,1], c=colors, s=16)\n",
    "plt.scatter(x_pca[:,0], line, c=colors, s=16)\n",
    "plt.scatter(line, x[:,1], color=(1,1,1), s=16)\n",
    "plt.show()"
   ]
  },
  {
   "cell_type": "code",
   "execution_count": null,
   "metadata": {},
   "outputs": [],
   "source": [
    "mTSNE = TSNE(1)\n",
    "x_tsne = mTSNE.fit_transform(x)\n",
    "x_tsne_norm = (x_tsne - x_tsne.mean()) / x_tsne.std() - 0.5\n",
    "\n",
    "plt.figure(figsize=(8,8))\n",
    "plt.xticks(fontsize=0)\n",
    "plt.yticks(fontsize=0)\n",
    "plt.scatter(x[:,0], x[:,1], c=colors, s=16)\n",
    "plt.scatter(x_tsne_norm[:,0], line, c=colors, s=16)\n",
    "plt.scatter(line, x[:,1], color=(1,1,1), s=16)\n",
    "plt.show()"
   ]
  }
 ],
 "metadata": {
  "kernelspec": {
   "display_name": "9103",
   "language": "python",
   "name": "python3"
  },
  "language_info": {
   "codemirror_mode": {
    "name": "ipython",
    "version": 3
   },
   "file_extension": ".py",
   "mimetype": "text/x-python",
   "name": "python",
   "nbconvert_exporter": "python",
   "pygments_lexer": "ipython3",
   "version": "3.10.15"
  }
 },
 "nbformat": 4,
 "nbformat_minor": 2
}
